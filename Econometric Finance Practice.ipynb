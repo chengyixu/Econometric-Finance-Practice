{
 "cells": [
  {
   "cell_type": "markdown",
   "id": "73f9ef31",
   "metadata": {},
   "source": [
    "# `Coding problem (100 points)`\n",
    "\n",
    "## `(a)` Below you will find `7 questions`. Some will require you to do simple derivations and provide discussion. Some will require you to complete an existing code. \n",
    "\n",
    "## You can use all of the codes that we have discussed in the course to help your work. This is an open-book exam.\n",
    "\n",
    "## `(b)` Your submission (on Canvas) at the end of this portion of the exam should consist of the following: (1) a scanned piece of paper with all of your derivations and discussions (partial credits will depend on your handwriting being as legible as possible) and (2) this Python code with your coding work. `Please note:` I am expecting `2 documents` with your submission.\n",
    "\n",
    "## `(c)` Make sure you give yourself plenty of time to scan your work and submit online. The length of the exam is 2 hours starting with the quiz. "
   ]
  },
  {
   "cell_type": "markdown",
   "id": "712a908e",
   "metadata": {},
   "source": [
    "###############################################################################################"
   ]
  },
  {
   "cell_type": "markdown",
   "id": "43011068",
   "metadata": {},
   "source": [
    "# Maximum likelihood estimation of an AR(1)-GARCH(1,1) model \n",
    "\n",
    "### This code estimates the parameters ($\\mu^{\\ast}$, $\\delta^{\\ast}$, $\\phi^{\\ast}$, $\\alpha$ and $\\beta$) of an AR(1)-GARCH(1,1) model by maximizing the standardized (by $T$) log likelihood:\n",
    "\n",
    "\\begin{equation*}\n",
    "Q_T(\\theta) = \\frac{1}{T}\\log(L(\\{x\\},\\mu^{\\ast}, \\delta^{\\ast}, \\phi^{\\ast}, \\alpha, \\beta))= \\frac{1}{2}\\log (2\\pi)-\\frac{\\sum _{t=3}^{T}}{2T}\\log \n",
    "h_{t}-\\frac{\\sum _{t=3}^{T}}{2T}\\left( \\frac{(r _{t}-\\alpha - \\beta r_{t-1})^{2}}{h_{t}}\\right),\n",
    "\\end{equation*}\n",
    "with\n",
    "$$h_t = \\mu ^{\\ast }+\\delta ^{\\ast }h_{t-1}+\\phi^{\\ast } (r_{t-1} -\\alpha - \\beta r_{t-2})^{2}.$$"
   ]
  },
  {
   "cell_type": "markdown",
   "id": "b4a2fe22",
   "metadata": {},
   "source": [
    "##################################################################################################"
   ]
  },
  {
   "cell_type": "markdown",
   "id": "75377db1",
   "metadata": {},
   "source": [
    "# `Question 1 (Theory) (10 points)`\n",
    "## Compute the unconditional expected value of returns ($\\mathbb{E}(r_t)$) in this model. (Write the answer on your paper.)"
   ]
  },
  {
   "cell_type": "markdown",
   "id": "c5647425",
   "metadata": {},
   "source": [
    "# `Question 2 (Theory) (10 points)`\n",
    "## Compute the conditional expected value of returns ($\\mathbb{E}_{t-1}(r_t)$) in this model. Does it time-vary? (Write the answer on your paper.)"
   ]
  },
  {
   "cell_type": "markdown",
   "id": "846995a0",
   "metadata": {},
   "source": [
    "# `Code`"
   ]
  },
  {
   "cell_type": "code",
   "execution_count": null,
   "id": "aef8a523",
   "metadata": {},
   "outputs": [],
   "source": [
    "import os\n",
    "import pandas as pd\n",
    "import numpy as np\n",
    "import matplotlib.pyplot as plt\n",
    "import scipy.optimize\n",
    "from scipy.stats import t, chi2, norm\n",
    "from platform import python_version"
   ]
  },
  {
   "cell_type": "code",
   "execution_count": null,
   "id": "851815ee",
   "metadata": {},
   "outputs": [],
   "source": [
    "# The recommended python version is 3.8 or 3.9\n",
    "print(python_version())\n",
    "# Adjust the plot size on your computer\n",
    "plt.rcParams['figure.figsize'] = [7, 7]\n",
    "# Check current directory\n",
    "os.getcwd()"
   ]
  },
  {
   "cell_type": "markdown",
   "id": "610725c3",
   "metadata": {},
   "source": [
    "## Let us begin by uploading the data"
   ]
  },
  {
   "cell_type": "code",
   "execution_count": null,
   "id": "56f71994",
   "metadata": {},
   "outputs": [],
   "source": [
    "data = pd.read_excel('SP500daily_level.xlsx')\n",
    "data "
   ]
  },
  {
   "cell_type": "markdown",
   "id": "c27c0ff4",
   "metadata": {},
   "source": [
    "## Let us now extract prices and compute continuously-compounded returns"
   ]
  },
  {
   "cell_type": "code",
   "execution_count": null,
   "id": "316f9851",
   "metadata": {},
   "outputs": [],
   "source": [
    "# We go from prices to log (or continuously-compounded) returns\n",
    "prices = np.array(data.iloc[:, 1])\n",
    "ret = np.log(prices[1:] / prices[:-1])\n",
    "T = len(ret)"
   ]
  },
  {
   "cell_type": "markdown",
   "id": "8c3078e2",
   "metadata": {},
   "source": [
    "## Always plot the data (if you can): why do we need a GARCH model? Let's see ..."
   ]
  },
  {
   "cell_type": "code",
   "execution_count": null,
   "id": "3a9535dd",
   "metadata": {},
   "outputs": [],
   "source": [
    "plt.plot(ret)\n",
    "plt.title('SP 500 continuously-compounded returns', color = 'red')\n",
    "plt.ylabel('returns', color = 'red')\n",
    "plt.xlabel('time', color = 'red')"
   ]
  },
  {
   "cell_type": "markdown",
   "id": "054bdb64",
   "metadata": {},
   "source": [
    "# `Question 3 (Coding) (15 points)`\n",
    "## Estimate $\\alpha$ and $\\beta$ by linear least squares ignoring GARCH effects."
   ]
  },
  {
   "cell_type": "code",
   "execution_count": null,
   "id": "f9498449",
   "metadata": {},
   "outputs": [],
   "source": [
    "\n",
    "\n",
    "    ##################################################\n",
    "    # COMPLETE THE CODE BELOW\n",
    "    ##################################################\n",
    "    \n",
    "    X = np.column_stack((np.ones(T-1), ret[1:]))\n",
    "    estimates_ls = \n",
    "    fitted_values = \n",
    "    residuals =\n",
    "    \n",
    "    ##################################################\n",
    "    # END OF CODE TO BE MODIFIED\n",
    "    ##################################################\n"
   ]
  },
  {
   "cell_type": "markdown",
   "id": "53b454dd",
   "metadata": {},
   "source": [
    "# `Question 4 (Coding) (10 points)`\n",
    "## Report the least-squares estimates of $\\alpha$ and $\\beta$ and their t-statistics in a table. "
   ]
  },
  {
   "cell_type": "code",
   "execution_count": null,
   "id": "b9505366",
   "metadata": {},
   "outputs": [],
   "source": [
    "    ##################################################\n",
    "    # COMPLETE THE CODE BELOW\n",
    "    ##################################################\n",
    "    \n",
    "    var_residuals = \n",
    "    VarCov_ls =\n",
    "    std_errors_ls = \n",
    "    t_stats_ls = \n",
    "    \n",
    "    ##################################################\n",
    "    # END OF CODE TO BE MODIFIED\n",
    "    ##################################################\n",
    "\n",
    "\n",
    "table = pd.DataFrame({'Estimates LS': estimates_ls, 't statistics': t_stats_ls}, index = ['alpha', 'beta'])\n",
    "table"
   ]
  },
  {
   "cell_type": "markdown",
   "id": "3fb54a20",
   "metadata": {},
   "source": [
    "# Next, we do GARCH"
   ]
  },
  {
   "cell_type": "markdown",
   "id": "9b0aaec5",
   "metadata": {
    "tags": []
   },
   "source": [
    "## (1) We define the standardized log-likelihood function"
   ]
  },
  {
   "cell_type": "code",
   "execution_count": null,
   "id": "2211f3dd",
   "metadata": {},
   "outputs": [],
   "source": [
    "def garchloglik(theta,ret):\n",
    "    \n",
    "    [mu, delta, phi, alpha, beta] = theta\n",
    "    \n",
    "    h1 = np.var(ret, ddof=1)          # Recall h needs to be initiated (we loop over h)\n",
    "                                      # Initial value of h: we use the unconditional empirical variance from the data\n",
    "\n",
    "    h    =   h1\n",
    "    sum1 = - 1 / 2 * np.log(h1) /T\n",
    "    sum2 = - (ret[1]- alpha - beta*ret[0])**2 / (2 * h1 * T)\n",
    "\n",
    "    for t in range(2, T): \n",
    "        h = mu + delta * h + phi * (ret[t-1]- alpha - beta*ret[t-2])**2\n",
    "        sum1 = sum1 - 1 / 2 * np.log(h)/T\n",
    "        sum2 = sum2 - (ret[t] - alpha - beta*ret[t-1])**2 / (2 * h * T)\n",
    "\n",
    "    # Note 1: I am excluding the first term in the log likelihood since it does not affect the maximum\n",
    "    # Note 2: Below I will change the sign of the likelihood. We are maximizing, not minimizing.\n",
    "    \n",
    "    y = - (sum1 + sum2)\n",
    "    return y"
   ]
  },
  {
   "cell_type": "markdown",
   "id": "0a62c2aa",
   "metadata": {},
   "source": [
    "## (2) Estimation\n",
    "\n",
    "The ML estimates are:\n",
    "\n",
    "\\begin{eqnarray*}\n",
    "\\widehat{\\theta }_{MLE}&=&\\underset{\\theta}{\\arg \\max }\\left[Q_{T}(\\theta )\\right] \\\\\n",
    "&=& \\underset{\\theta = (\\mu^{\\ast}, \\delta^{\\ast}, \\phi^{\\ast}, \\alpha, \\beta)}{\\arg \\max }{\\frac{1}{T}\\log(L(\\{x\\},\\mu^{\\ast}, \\delta^{\\ast}, \\phi^{\\ast}, \\alpha, \\beta))}\\\\\n",
    "&=&\\underset{\\theta = (\\mu^{\\ast}, \\delta^{\\ast}, \\phi^{\\ast}, \\alpha, \\beta) }{\\arg \\max }\\left(\\frac{1}{2}\\log (2\\pi)-\\frac{\\sum _{t=3}^{T}}{2T}\\log \n",
    "h_{t}-\\frac{\\sum _{t=3}^{T}}{2T}\\left( \\frac{(r _{t}-\\alpha - \\beta r_{t-1})^{2}}{h_{t}}\\right)\\right)\n",
    "\\end{eqnarray*}"
   ]
  },
  {
   "cell_type": "code",
   "execution_count": null,
   "id": "b9d8e507",
   "metadata": {},
   "outputs": [],
   "source": [
    "theta_guess = [0, 0.5, 0.5, 0.1, 0.2]  \n",
    "\n",
    "estimates = scipy.optimize.fmin(func=garchloglik, \n",
    "                                x0=theta_guess, \n",
    "                                args=(ret,), \n",
    "                                xtol=1e-15, \n",
    "                                ftol=1e-15, \n",
    "                                disp=0)  \n",
    "\n",
    "table = pd.DataFrame({'Estimates':estimates}, index = ['mu', 'delta','phi', 'alpha', 'beta'])\n",
    "table"
   ]
  },
  {
   "cell_type": "markdown",
   "id": "60c7b701",
   "metadata": {},
   "source": [
    "# `Question 5 (Theory and Coding) (25 points)`\n",
    "## Write the matrix $\\Omega_0$ and code up its estimator below. You goal is to compute the standard errors of the parameter estimates. (The expression for the matrix $\\Omega_0$ should be provided on your paper. The implementation should be in the code.)"
   ]
  },
  {
   "cell_type": "code",
   "execution_count": null,
   "id": "dd7ae479",
   "metadata": {},
   "outputs": [],
   "source": [
    "h = np.var(ret, ddof=1) * np.ones(T)\n",
    "grad1_h = np.zeros(T)\n",
    "grad2_h = np.zeros(T)\n",
    "grad3_h = np.zeros(T)\n",
    "grad4_h = np.zeros(T)\n",
    "grad5_h = np.zeros(T)\n",
    "Omegahat = np.zeros([5, 5])\n",
    "\n",
    "    ##################################################\n",
    "    # COMPLETE THE CODE BELOW\n",
    "    ##################################################\n",
    "\n",
    "for t in range(1, T):\n",
    "    h[t] = \n",
    "    grad1_h[t] = \n",
    "    grad2_h[t] = \n",
    "    grad3_h[t] = \n",
    "    grad4_h[t] = \n",
    "    grad5_h[t] = \n",
    "\n",
    "    grad_h = np.array([grad1_h[t], grad2_h[t], grad3_h[t], grad4_h[t], grad5_h[t]]).T\n",
    "\n",
    "    grad = \n",
    "    grad[3] = \n",
    "    grad[4] = \n",
    "    Omegahat = \n",
    "\n",
    "    ##################################################\n",
    "    # END OF CODE TO BE MODIFIED\n",
    "    ################################################## \n",
    "    "
   ]
  },
  {
   "cell_type": "code",
   "execution_count": null,
   "id": "2761d134",
   "metadata": {},
   "outputs": [],
   "source": [
    "VarCov = (1 / T) * np.linalg.inv(Omegahat)\n",
    "t_stats = estimates / np.sqrt(np.diag(VarCov))\n",
    "\n",
    "table = pd.DataFrame({'Estimates': estimates, 't statistics': t_stats}, index = ['mu', 'delta','phi', 'alpha', 'beta'])\n",
    "table"
   ]
  },
  {
   "cell_type": "markdown",
   "id": "2bfdd7ab",
   "metadata": {},
   "source": [
    "# `Question 6 (Theory and Coding) (15 points)`\n",
    "## Test if $\\beta = 0.05$ using the appropriate test statistic and the appropriate p-value. (Write the test on your paper and implement the test in the code.)"
   ]
  },
  {
   "cell_type": "code",
   "execution_count": null,
   "id": "6ef483e0",
   "metadata": {},
   "outputs": [],
   "source": [
    "    ##################################################\n",
    "    # COMPLETE THE CODE BELOW\n",
    "    ##################################################\n",
    "\n",
    "    \n",
    "t_test = \n",
    "p_value = \n",
    "\n",
    "\n",
    "    ##################################################\n",
    "    # END OF CODE TO BE MODIFIED\n",
    "    ##################################################  "
   ]
  },
  {
   "cell_type": "markdown",
   "id": "8f965511",
   "metadata": {},
   "source": [
    "# `Question 7 (Theory and Coding) (15 points)`\n",
    "## Test if $\\delta^{\\ast} = 0.9$ and $\\phi^{\\ast} = 0.07$ using the appropriate test statistic and the appropriate p-value. (Write the test on your paper and implement the test in the code.)  "
   ]
  },
  {
   "cell_type": "code",
   "execution_count": null,
   "id": "70a30b62",
   "metadata": {},
   "outputs": [],
   "source": [
    "    ##################################################\n",
    "    # COMPLETE THE CODE BELOW\n",
    "    ##################################################\n",
    "\n",
    "R = \n",
    "r = \n",
    "\n",
    "test_statistic = \n",
    "p_value = \n",
    "\n",
    "    ##################################################\n",
    "    # END OF CODE TO BE MODIFIED\n",
    "    ################################################## "
   ]
  }
 ],
 "metadata": {
  "kernelspec": {
   "display_name": "Python 3 (ipykernel)",
   "language": "python",
   "name": "python3"
  },
  "language_info": {
   "codemirror_mode": {
    "name": "ipython",
    "version": 3
   },
   "file_extension": ".py",
   "mimetype": "text/x-python",
   "name": "python",
   "nbconvert_exporter": "python",
   "pygments_lexer": "ipython3",
   "version": "3.9.7"
  }
 },
 "nbformat": 4,
 "nbformat_minor": 5
}
